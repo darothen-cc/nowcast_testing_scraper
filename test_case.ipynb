{
 "cells": [
  {
   "cell_type": "markdown",
   "metadata": {},
   "source": [
    "# Nowcasting Test Cases\n",
    "\n",
    "I previously archived HRRR output for CONUS during Hurricane Harvey. Here, we extract the now-casting relevant fields from each file and archive as an intermediate netCDF file. \n",
    "\n",
    "**Fields**\n",
    "\n",
    "- U component of storm motion\n",
    "- V component of storm motion\n",
    "- CAPE\n",
    "- Precipitation Rate\n",
    "- (Reflectivity)\n",
    "\n",
    "** Case locations**\n",
    "\n",
    "1. 8/28 @ 03Z - 35.629N, 1{0,2}.327W\n",
    "2. 8/28 @ 04Z - 35.057N, 102.722W"
   ]
  },
  {
   "cell_type": "markdown",
   "metadata": {},
   "source": [
    "First we need to download the data from the Utah archive; the data we archived from `ldm` is missing precipitation rate. There has been a mis-communication on where William is scraping is HRRR fields, or otherwise or forecast precipitation data in HyperCast is *very* wrong."
   ]
  },
  {
   "cell_type": "code",
   "execution_count": 1,
   "metadata": {},
   "outputs": [
    {
     "name": "stdout",
     "output_type": "stream",
     "text": [
      "https://pando-rgw01.chpc.utah.edu/HRRR/oper/sfc/20170828/hrrr.t02z.wrfsfcf00.grib2\n",
      "hrrr.20170828.t02z.f00.grib2\n"
     ]
    }
   ],
   "source": [
    "from __future__ import print_function\n",
    "\n",
    "from collections import namedtuple\n",
    "import os\n",
    "\n",
    "fcst = namedtuple('forecast', ['month', 'day', 'hour', 'fcst_hour'])\n",
    "\n",
    "forecasts_a = [fcst(8, 28, 2, i) for i in range(7)]\n",
    "forecasts_b = [fcst(8, 28, 3, i) for i in range(7)]\n",
    "\n",
    "ROOT = (\n",
    "    \"https://pando-rgw01.chpc.utah.edu/HRRR/oper/sfc/\"\n",
    "    \"2017{fcst.month:02d}{fcst.day:02d}/hrrr.t{fcst.hour:02d}z.wrfsfcf{fcst.fcst_hour:02d}.grib2\"\n",
    ")\n",
    "NEW_FN = \"hrrr.2017{fcst.month:02d}{fcst.day:02d}.t{fcst.hour:02d}z.f{fcst.fcst_hour:02d}.grib2\"\n",
    "f = forecasts_a[0]\n",
    "print(ROOT.format(fcst=f))\n",
    "print(NEW_FN.format(fcst=f))"
   ]
  },
  {
   "cell_type": "markdown",
   "metadata": {},
   "source": [
    "Download Case \"A\""
   ]
  },
  {
   "cell_type": "code",
   "execution_count": 2,
   "metadata": {},
   "outputs": [
    {
     "name": "stdout",
     "output_type": "stream",
     "text": [
      "--2017-09-12 20:29:16--  https://pando-rgw01.chpc.utah.edu/HRRR/oper/sfc/20170828/hrrr.t02z.wrfsfcf00.grib2\n",
      "Resolving pando-rgw01.chpc.utah.edu... 155.101.11.35\n",
      "Connecting to pando-rgw01.chpc.utah.edu|155.101.11.35|:443... connected.\n",
      "HTTP request sent, awaiting response... 200 OK\n",
      "Length: 103964180 (99M) [application/octet-stream]\n",
      "Saving to: ‘case_a/hrrr.20170828.t02z.f00.grib2’\n",
      "\n",
      "case_a/hrrr.2017082 100%[===================>]  99.15M  9.95MB/s    in 10s     \n",
      "\n",
      "2017-09-12 20:29:28 (9.47 MB/s) - ‘case_a/hrrr.20170828.t02z.f00.grib2’ saved [103964180/103964180]\n",
      "\n",
      "--2017-09-12 20:29:28--  https://pando-rgw01.chpc.utah.edu/HRRR/oper/sfc/20170828/hrrr.t02z.wrfsfcf01.grib2\n",
      "Resolving pando-rgw01.chpc.utah.edu... 155.101.11.35\n",
      "Connecting to pando-rgw01.chpc.utah.edu|155.101.11.35|:443... connected.\n",
      "HTTP request sent, awaiting response... 200 OK\n",
      "Length: 107935955 (103M) [application/octet-stream]\n",
      "Saving to: ‘case_a/hrrr.20170828.t02z.f01.grib2’\n",
      "\n",
      "case_a/hrrr.2017082 100%[===================>] 102.94M  6.68MB/s    in 18s     \n",
      "\n",
      "2017-09-12 20:29:46 (5.65 MB/s) - ‘case_a/hrrr.20170828.t02z.f01.grib2’ saved [107935955/107935955]\n",
      "\n",
      "--2017-09-12 20:29:46--  https://pando-rgw01.chpc.utah.edu/HRRR/oper/sfc/20170828/hrrr.t02z.wrfsfcf02.grib2\n",
      "Resolving pando-rgw01.chpc.utah.edu... 155.101.11.35\n",
      "Connecting to pando-rgw01.chpc.utah.edu|155.101.11.35|:443... connected.\n",
      "HTTP request sent, awaiting response... 200 OK\n",
      "Length: 110146663 (105M) [application/octet-stream]\n",
      "Saving to: ‘case_a/hrrr.20170828.t02z.f02.grib2’\n",
      "\n",
      "case_a/hrrr.2017082 100%[===================>] 105.04M  10.3MB/s    in 22s     \n",
      "\n",
      "2017-09-12 20:30:09 (4.83 MB/s) - ‘case_a/hrrr.20170828.t02z.f02.grib2’ saved [110146663/110146663]\n",
      "\n",
      "--2017-09-12 20:30:09--  https://pando-rgw01.chpc.utah.edu/HRRR/oper/sfc/20170828/hrrr.t02z.wrfsfcf03.grib2\n",
      "Resolving pando-rgw01.chpc.utah.edu... 155.101.11.35\n",
      "Connecting to pando-rgw01.chpc.utah.edu|155.101.11.35|:443... connected.\n",
      "HTTP request sent, awaiting response... 200 OK\n",
      "Length: 110112426 (105M) [application/octet-stream]\n",
      "Saving to: ‘case_a/hrrr.20170828.t02z.f03.grib2’\n",
      "\n",
      "case_a/hrrr.2017082 100%[===================>] 105.01M  10.4MB/s    in 14s     \n",
      "\n",
      "2017-09-12 20:30:23 (7.56 MB/s) - ‘case_a/hrrr.20170828.t02z.f03.grib2’ saved [110112426/110112426]\n",
      "\n",
      "--2017-09-12 20:30:23--  https://pando-rgw01.chpc.utah.edu/HRRR/oper/sfc/20170828/hrrr.t02z.wrfsfcf04.grib2\n",
      "Resolving pando-rgw01.chpc.utah.edu... 155.101.11.35\n",
      "Connecting to pando-rgw01.chpc.utah.edu|155.101.11.35|:443... connected.\n",
      "HTTP request sent, awaiting response... 200 OK\n",
      "Length: 110142675 (105M) [application/octet-stream]\n",
      "Saving to: ‘case_a/hrrr.20170828.t02z.f04.grib2’\n",
      "\n",
      "case_a/hrrr.2017082 100%[===================>] 105.04M  10.5MB/s    in 21s     \n",
      "\n",
      "2017-09-12 20:30:45 (5.04 MB/s) - ‘case_a/hrrr.20170828.t02z.f04.grib2’ saved [110142675/110142675]\n",
      "\n",
      "--2017-09-12 20:30:45--  https://pando-rgw01.chpc.utah.edu/HRRR/oper/sfc/20170828/hrrr.t02z.wrfsfcf05.grib2\n",
      "Resolving pando-rgw01.chpc.utah.edu... 155.101.11.35\n",
      "Connecting to pando-rgw01.chpc.utah.edu|155.101.11.35|:443... connected.\n",
      "HTTP request sent, awaiting response... 200 OK\n",
      "Length: 110914499 (106M) [application/octet-stream]\n",
      "Saving to: ‘case_a/hrrr.20170828.t02z.f05.grib2’\n",
      "\n",
      "case_a/hrrr.2017082 100%[===================>] 105.78M  10.4MB/s    in 22s     \n",
      "\n",
      "2017-09-12 20:31:07 (4.84 MB/s) - ‘case_a/hrrr.20170828.t02z.f05.grib2’ saved [110914499/110914499]\n",
      "\n",
      "--2017-09-12 20:31:08--  https://pando-rgw01.chpc.utah.edu/HRRR/oper/sfc/20170828/hrrr.t02z.wrfsfcf06.grib2\n",
      "Resolving pando-rgw01.chpc.utah.edu... 155.101.11.35\n",
      "Connecting to pando-rgw01.chpc.utah.edu|155.101.11.35|:443... connected.\n",
      "HTTP request sent, awaiting response... 200 OK\n",
      "Length: 110948387 (106M) [application/octet-stream]\n",
      "Saving to: ‘case_a/hrrr.20170828.t02z.f06.grib2’\n",
      "\n",
      "case_a/hrrr.2017082 100%[===================>] 105.81M  10.3MB/s    in 14s     \n",
      "\n",
      "2017-09-12 20:31:22 (7.66 MB/s) - ‘case_a/hrrr.20170828.t02z.f06.grib2’ saved [110948387/110948387]\n",
      "\n"
     ]
    }
   ],
   "source": [
    "if not os.path.exists('case_a'):\n",
    "    os.makedirs(\"case_a\")\n",
    "for f in forecasts_a:\n",
    "    fn = ROOT.format(fcst=f)\n",
    "    new_fn = NEW_FN.format(fcst=f)\n",
    "    !wget -O case_a/{new_fn} {fn} "
   ]
  },
  {
   "cell_type": "markdown",
   "metadata": {},
   "source": [
    "Download Case \"B\""
   ]
  },
  {
   "cell_type": "code",
   "execution_count": 3,
   "metadata": {},
   "outputs": [
    {
     "name": "stdout",
     "output_type": "stream",
     "text": [
      "--2017-09-12 20:31:22--  https://pando-rgw01.chpc.utah.edu/HRRR/oper/sfc/20170828/hrrr.t03z.wrfsfcf00.grib2\n",
      "Resolving pando-rgw01.chpc.utah.edu... 155.101.11.35\n",
      "Connecting to pando-rgw01.chpc.utah.edu|155.101.11.35|:443... connected.\n",
      "HTTP request sent, awaiting response... 200 OK\n",
      "Length: 104138636 (99M) [application/octet-stream]\n",
      "Saving to: ‘case_b/hrrr.20170828.t03z.f00.grib2’\n",
      "\n",
      "case_b/hrrr.2017082 100%[===================>]  99.31M  10.5MB/s    in 13s     \n",
      "\n",
      "2017-09-12 20:31:36 (7.60 MB/s) - ‘case_b/hrrr.20170828.t03z.f00.grib2’ saved [104138636/104138636]\n",
      "\n",
      "--2017-09-12 20:31:36--  https://pando-rgw01.chpc.utah.edu/HRRR/oper/sfc/20170828/hrrr.t03z.wrfsfcf01.grib2\n",
      "Resolving pando-rgw01.chpc.utah.edu... 155.101.11.35\n",
      "Connecting to pando-rgw01.chpc.utah.edu|155.101.11.35|:443... connected.\n",
      "HTTP request sent, awaiting response... 200 OK\n",
      "Length: 108234501 (103M) [application/octet-stream]\n",
      "Saving to: ‘case_b/hrrr.20170828.t03z.f01.grib2’\n",
      "\n",
      "case_b/hrrr.2017082 100%[===================>] 103.22M  10.4MB/s    in 21s     \n",
      "\n",
      "2017-09-12 20:31:58 (4.80 MB/s) - ‘case_b/hrrr.20170828.t03z.f01.grib2’ saved [108234501/108234501]\n",
      "\n",
      "--2017-09-12 20:31:58--  https://pando-rgw01.chpc.utah.edu/HRRR/oper/sfc/20170828/hrrr.t03z.wrfsfcf02.grib2\n",
      "Resolving pando-rgw01.chpc.utah.edu... 155.101.11.35\n",
      "Connecting to pando-rgw01.chpc.utah.edu|155.101.11.35|:443... connected.\n",
      "HTTP request sent, awaiting response... 200 OK\n",
      "Length: 109683021 (105M) [application/octet-stream]\n",
      "Saving to: ‘case_b/hrrr.20170828.t03z.f02.grib2’\n",
      "\n",
      "case_b/hrrr.2017082 100%[===================>] 104.60M  10.5MB/s    in 11s     \n",
      "\n",
      "2017-09-12 20:32:10 (9.63 MB/s) - ‘case_b/hrrr.20170828.t03z.f02.grib2’ saved [109683021/109683021]\n",
      "\n",
      "--2017-09-12 20:32:10--  https://pando-rgw01.chpc.utah.edu/HRRR/oper/sfc/20170828/hrrr.t03z.wrfsfcf03.grib2\n",
      "Resolving pando-rgw01.chpc.utah.edu... 155.101.11.35\n",
      "Connecting to pando-rgw01.chpc.utah.edu|155.101.11.35|:443... connected.\n",
      "HTTP request sent, awaiting response... 200 OK\n",
      "Length: 109931198 (105M) [application/octet-stream]\n",
      "Saving to: ‘case_b/hrrr.20170828.t03z.f03.grib2’\n",
      "\n",
      "case_b/hrrr.2017082 100%[===================>] 104.84M  10.5MB/s    in 14s     \n",
      "\n",
      "2017-09-12 20:32:25 (7.55 MB/s) - ‘case_b/hrrr.20170828.t03z.f03.grib2’ saved [109931198/109931198]\n",
      "\n",
      "--2017-09-12 20:32:25--  https://pando-rgw01.chpc.utah.edu/HRRR/oper/sfc/20170828/hrrr.t03z.wrfsfcf04.grib2\n",
      "Resolving pando-rgw01.chpc.utah.edu... 155.101.11.35\n",
      "Connecting to pando-rgw01.chpc.utah.edu|155.101.11.35|:443... connected.\n",
      "HTTP request sent, awaiting response... 200 OK\n",
      "Length: 110693810 (106M) [application/octet-stream]\n",
      "Saving to: ‘case_b/hrrr.20170828.t03z.f04.grib2’\n",
      "\n",
      "case_b/hrrr.2017082 100%[===================>] 105.57M  10.5MB/s    in 14s     \n",
      "\n",
      "2017-09-12 20:32:39 (7.57 MB/s) - ‘case_b/hrrr.20170828.t03z.f04.grib2’ saved [110693810/110693810]\n",
      "\n",
      "--2017-09-12 20:32:39--  https://pando-rgw01.chpc.utah.edu/HRRR/oper/sfc/20170828/hrrr.t03z.wrfsfcf05.grib2\n",
      "Resolving pando-rgw01.chpc.utah.edu... 155.101.11.35\n",
      "Connecting to pando-rgw01.chpc.utah.edu|155.101.11.35|:443... connected.\n",
      "HTTP request sent, awaiting response... 200 OK\n",
      "Length: 111298807 (106M) [application/octet-stream]\n",
      "Saving to: ‘case_b/hrrr.20170828.t03z.f05.grib2’\n",
      "\n",
      "case_b/hrrr.2017082 100%[===================>] 106.14M  10.4MB/s    in 14s     \n",
      "\n",
      "2017-09-12 20:32:54 (7.56 MB/s) - ‘case_b/hrrr.20170828.t03z.f05.grib2’ saved [111298807/111298807]\n",
      "\n",
      "--2017-09-12 20:32:54--  https://pando-rgw01.chpc.utah.edu/HRRR/oper/sfc/20170828/hrrr.t03z.wrfsfcf06.grib2\n",
      "Resolving pando-rgw01.chpc.utah.edu... 155.101.11.35\n",
      "Connecting to pando-rgw01.chpc.utah.edu|155.101.11.35|:443... connected.\n",
      "HTTP request sent, awaiting response... 200 OK\n",
      "Length: 112160003 (107M) [application/octet-stream]\n",
      "Saving to: ‘case_b/hrrr.20170828.t03z.f06.grib2’\n",
      "\n",
      "case_b/hrrr.2017082 100%[===================>] 106.96M  7.72MB/s    in 16s     \n",
      "\n",
      "2017-09-12 20:33:11 (6.68 MB/s) - ‘case_b/hrrr.20170828.t03z.f06.grib2’ saved [112160003/112160003]\n",
      "\n"
     ]
    }
   ],
   "source": [
    "if not os.path.exists('case_b'):\n",
    "    os.makedirs(\"case_b\")\n",
    "for f in forecasts_b:\n",
    "    fn = ROOT.format(fcst=f)\n",
    "    new_fn = NEW_FN.format(fcst=f)\n",
    "    !wget -O case_b/{new_fn} {fn} "
   ]
  },
  {
   "cell_type": "markdown",
   "metadata": {},
   "source": [
    "We now want to create a subset of the data. We'll read in each forecast dataset, read it in via **xarray**, and select a 2.5 x 2.5 degree box centered on the locations indicated for both of the test cases. We can subset the data to just include the fields used by the now-castin engine. Once we have this sub-selection complete, we'll unravel our tensor data into a vector which we can record as a CSV file.\n",
    "\n",
    "Each case will have 7 forecast CSV files - I've taken the model run initialized *one hour before* the observation time, so that we can capture a 7-hour forecast progression."
   ]
  },
  {
   "cell_type": "code",
   "execution_count": 6,
   "metadata": {
    "collapsed": true
   },
   "outputs": [],
   "source": [
    "import pandas as pd\n",
    "import xarray as xr\n",
    "\n",
    "fields_map = [\n",
    "    ('USTM_P0_2L103_GLC0', 'u_stm'),\n",
    "    ('VSTM_P0_2L103_GLC0', 'v_stm'),\n",
    "    ('CAPE_P0_L1_GLC0', 'cape'),\n",
    "    ('PRATE_P0_L1_GLC0', 'precip_rate'),\n",
    "    ('REFD_P0_L103_GLC0', 'refl'),\n",
    "    ('gridlat_0', 'lat'),\n",
    "    ('gridlon_0', 'lon')\n",
    "]\n",
    "old_fields, new_fields = map(list, zip(*fields_map))\n",
    "\n",
    "OUT_FN = \"hrrr_subset.2017{fcst.month:02d}{fcst.day:02d}.t{fcst.hour:02d}z.f{fcst.fcst_hour:02d}.csv\"\n"
   ]
  },
  {
   "cell_type": "markdown",
   "metadata": {},
   "source": [
    "Case A -  8/28 @ 03Z - 35.629N, 1{0,2??}.327W"
   ]
  },
  {
   "cell_type": "code",
   "execution_count": 7,
   "metadata": {
    "scrolled": true
   },
   "outputs": [
    {
     "name": "stdout",
     "output_type": "stream",
     "text": [
      "\n",
      " forecast(month=8, day=28, hour=2, fcst_hour=0) case_a/hrrr.20170828.t02z.f00.grib2\n",
      "writing case_a/hrrr_subset.20170828.t02z.f00.csv\n"
     ]
    }
   ],
   "source": [
    "for f in forecasts_a[:1]:\n",
    "    fn = 'case_a/' + NEW_FN.format(fcst=f)\n",
    "    print(\"\\n\", f, fn)\n",
    "    out_fn = 'case_a/' + OUT_FN.format(fcst=f)\n",
    "\n",
    "    # Process dataset\n",
    "    ds = xr.open_dataset(fn, engine='pynio')[old_fields]\n",
    "    ds = (\n",
    "        ds\n",
    "        .rename({old: new for old, new in fields_map})\n",
    "        .assign(time=[pd.Timestamp(\"2017-{fcst.month:02d}-{fcst.day:02d} {hour:02d}:00:00\"\n",
    "                                   .format(fcst=f, hour=f.hour + f.fcst_hour)), ])\n",
    "        .set_coords('time')\n",
    "    )\n",
    "    ds = (\n",
    "        ds\n",
    "        .where((32.5 < ds.lat) & (ds.lat < 37.5) & \n",
    "               (-104.5 < ds.lon) & (ds.lon < -99.5), drop=True)\n",
    "        .sel(lv_HTGL8=1000.)\n",
    "        .squeeze()\n",
    "    )\n",
    "    ds.to_netcdf(out_fn.replace(\"csv\", \"nc\"))\n",
    "    \n",
    "    # Convert to DataFrame\n",
    "    df = (\n",
    "        ds\n",
    "        .to_dataframe()\n",
    "        .dropna()\n",
    "        .reset_index(drop=True)\n",
    "        [new_fields]\n",
    "    )\n",
    "    \n",
    "    print(\"writing\", out_fn)\n",
    "    df.to_csv(out_fn, index=False)\n"
   ]
  },
  {
   "cell_type": "markdown",
   "metadata": {},
   "source": [
    "Case B - 8/28 @ 04Z - 35.057N, 102.722W"
   ]
  },
  {
   "cell_type": "code",
   "execution_count": 8,
   "metadata": {},
   "outputs": [
    {
     "name": "stdout",
     "output_type": "stream",
     "text": [
      "\n",
      " forecast(month=8, day=28, hour=3, fcst_hour=0) case_b/hrrr.20170828.t03z.f00.grib2\n",
      "writing case_b/hrrr_subset.20170828.t03z.f00.csv\n"
     ]
    }
   ],
   "source": [
    "for f in forecasts_b[:1]:\n",
    "    fn = 'case_b/' + NEW_FN.format(fcst=f)\n",
    "    print(\"\\n\", f, fn)\n",
    "    \n",
    "    out_fn = 'case_b/' + OUT_FN.format(fcst=f)\n",
    "\n",
    "    # Process dataset\n",
    "    ds = xr.open_dataset(fn, engine='pynio')[old_fields]\n",
    "    ds = (\n",
    "        ds\n",
    "        .rename({old: new for old, new in fields_map})\n",
    "        .assign(time=[pd.Timestamp(\"2017-{fcst.month:02d}-{fcst.day:02d} {hour:02d}:00:00\"\n",
    "                                   .format(fcst=f, hour=f.hour + f.fcst_hour)), ])\n",
    "        .set_coords('time')\n",
    "    )\n",
    "    ds = (\n",
    "        ds\n",
    "        .where((32.5 < ds.lat) & (ds.lat < 37.5) & \n",
    "              (-105 < ds.lon) & (ds.lon < -100), drop=True)\n",
    "        .sel(lv_HTGL8=1000.)\n",
    "        .squeeze()\n",
    "    )\n",
    "    ds.to_netcdf(out_fn.replace(\"csv\", \"nc\"))\n",
    "    \n",
    "    # Convert to DataFrame\n",
    "    df = (\n",
    "        ds\n",
    "        .to_dataframe()\n",
    "        .dropna()\n",
    "        .reset_index(drop=True)\n",
    "        [new_fields]\n",
    "    )\n",
    "    \n",
    "    print(\"writing\", out_fn)\n",
    "    df.to_csv(out_fn, index=False)\n"
   ]
  },
  {
   "cell_type": "code",
   "execution_count": null,
   "metadata": {
    "collapsed": true
   },
   "outputs": [],
   "source": []
  }
 ],
 "metadata": {
  "kernelspec": {
   "display_name": "Python 3",
   "language": "python",
   "name": "python3"
  },
  "language_info": {
   "codemirror_mode": {
    "name": "ipython",
    "version": 3
   },
   "file_extension": ".py",
   "mimetype": "text/x-python",
   "name": "python",
   "nbconvert_exporter": "python",
   "pygments_lexer": "ipython3",
   "version": "3.6.1"
  },
  "toc": {
   "colors": {
    "hover_highlight": "#DAA520",
    "running_highlight": "#FF0000",
    "selected_highlight": "#FFD700"
   },
   "moveMenuLeft": true,
   "nav_menu": {
    "height": "12px",
    "width": "252px"
   },
   "navigate_menu": true,
   "number_sections": true,
   "sideBar": true,
   "threshold": 4,
   "toc_cell": false,
   "toc_section_display": "block",
   "toc_window_display": false,
   "widenNotebook": false
  }
 },
 "nbformat": 4,
 "nbformat_minor": 2
}
